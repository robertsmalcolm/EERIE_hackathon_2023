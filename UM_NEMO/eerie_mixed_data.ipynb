{
 "cells": [
  {
   "cell_type": "markdown",
   "id": "4fc2ceb8-9b3a-4b8e-b354-453f0f624286",
   "metadata": {},
   "source": [
    "# "
   ]
  },
  {
   "cell_type": "markdown",
   "id": "0a6a0dda-4148-40e0-aa1f-cf8eb204523b",
   "metadata": {},
   "source": [
    "Data from UM-NEMO model simulations, not CMORised"
   ]
  },
  {
   "cell_type": "markdown",
   "id": "2ea1e0d0-b74d-46a8-a3ed-7609b9d65d1c",
   "metadata": {},
   "source": []
  },
  {
   "cell_type": "markdown",
   "id": "72165ca2-15c9-47fe-b153-2523e9b0cf31",
   "metadata": {
    "jp-MarkdownHeadingCollapsed": true
   },
   "source": [
    "Data for SAM calculations\n",
    "Monthly: sic, ts, uwind_850\n",
    "Daily: zg_500\n",
    "Atmosphere grid, latitude-longitude"
   ]
  },
  {
   "cell_type": "code",
   "execution_count": 10,
   "id": "8824b77e-0e8c-431b-bb75-96b7cf3e95b3",
   "metadata": {},
   "outputs": [],
   "source": [
    "import os\n",
    "import os.path\n",
    "import glob\n"
   ]
  },
  {
   "cell_type": "code",
   "execution_count": 14,
   "id": "cb3285ce-1eba-4e1f-8372-22d218f3b789",
   "metadata": {},
   "outputs": [],
   "source": [
    "TOP_DIR = \"/gws/nopw/j04/eerie/model_output/MOHC\"\n",
    "desc = 'HadGEM3-GC5-EERIE'\n",
    "model_HH = \"HH\"; suiteid_HH = \"u-cx993\"\n",
    "model_MM = 'MM'; suite_MM = 'u-cy021'\n",
    "model_LL = 'LL'; suite_LL = 'u-cy163'\n",
    "simulation = 'piControl'\n"
   ]
  },
  {
   "cell_type": "markdown",
   "id": "a538a259-1e2d-46df-bcaa-b7e47c5aa18e",
   "metadata": {},
   "source": [
    "Data for SAM calculations: variables on UM atmosphere lat-lon grid:\n",
    "\n",
    "Monthly\n",
    "  sic = sea ice concentration\n",
    "  ts = surface temperature\n",
    "  uwind_850 = 850 hPa eastward wind\n",
    "\n",
    "Daily\n",
    "  zg_500 = 500 hPa geopotential height \n",
    "\n",
    "Years - currently 1950-1969"
   ]
  },
  {
   "cell_type": "code",
   "execution_count": 17,
   "id": "29efa200-1e99-466d-b46a-aa31cb8815f3",
   "metadata": {},
   "outputs": [
    {
     "name": "stdout",
     "output_type": "stream",
     "text": [
      "sic  /gws/nopw/j04/eerie/model_output/MOHC/HadGEM3-GC5-EERIE-HH/piControl/mon/ts/ts_1951.nc\n",
      "zg data  /gws/nopw/j04/eerie/model_output/MOHC/HadGEM3-GC5-EERIE-HH/piControl/day/zg_500/zg_500_1951.nc\n"
     ]
    }
   ],
   "source": [
    "monthly_variables = ['sic', 'ts', 'uwind_850']\n",
    "daily_variables = ['zg_500']\n",
    "dir_sam = os.path.join(TOP_DIR, '{model}-{resol}', '{simulation}', '{freq}', '{variable}', '{variable}_{year}.nc')\n",
    "\n",
    "sic_data = dir_sam.format(model=desc, resol=model_HH, freq='mon', variable='ts', simulation=simulation, year='1951')\n",
    "print('sic ',sic_data)\n",
    "zg_500_data = dir_sam.format(model=desc, resol=model_HH, freq='day', variable='zg_500', simulation=simulation, year='1951')\n",
    "print('zg data ',zg_500_data)\n",
    "#os.system('ncdump -hs '+sic_data+' |less')\n"
   ]
  },
  {
   "cell_type": "markdown",
   "id": "32faf023-163b-4c39-8057-92cbf214178e",
   "metadata": {
    "collapsed": true,
    "jupyter": {
     "outputs_hidden": true
    }
   },
   "source": [
    "Data for Fraser of fluxes on NEMO grid:\n",
    "Variables, monthly\n",
    "  tos_con - conservative temperature\n",
    "  sos_abs - absolute salinity\n",
    "  soprecip - total precipitation (rain + snow)\n",
    "  friver - river input to ocean\n",
    "  sowflisf - freshwater from ice sheets (the model calculates this based on rain/snow over the ice sheets)\n",
    "  evs - evaporation\n",
    "  hfds - net surface heat flux\n",
    "  rsdo - penetrative solar flux\n",
    "\n",
    "Net FW flux (excluding evap and snow over sea-ice) = evs - soprecip - friver +soflisf\n",
    "\n",
    "Years: currently 1950-1954 for testing\n"
   ]
  },
  {
   "cell_type": "code",
   "execution_count": null,
   "id": "0a560d83-d8b6-42b0-a0e7-d3491c3e89bd",
   "metadata": {},
   "outputs": [],
   "source": []
  },
  {
   "cell_type": "code",
   "execution_count": 6,
   "id": "f734c250-fc0d-4cbf-8465-e85049978029",
   "metadata": {},
   "outputs": [],
   "source": [
    "import os\n",
    "TOP_DIR = \"/gws/nopw/j04/eerie/model_output/MOHC\"\n",
    "desc = 'HadGEM3-GC5-EERIE'\n",
    "model_HH = \"HH\"; suiteid_HH = \"u-cx993\"\n",
    "model_MM = 'MM'; suite_MM = 'u-cy021'\n",
    "model_LL = 'LL'; suite_LL = 'u-cy163'\n",
    "simulation = 'piControl'\n"
   ]
  },
  {
   "cell_type": "code",
   "execution_count": 9,
   "id": "eedfebdb-1361-489b-8f31-f2d71c7178ff",
   "metadata": {},
   "outputs": [
    {
     "name": "stdout",
     "output_type": "stream",
     "text": [
      "tos_con  /gws/nopw/j04/eerie/model_output/MOHC/HadGEM3-GC5-EERIE-HH/piControl/Omon/tos_con/tos_con_HadGEM3-GC5-EERIE-HH_piControl_19510101-19520101.nc\n",
      "netcdf tos_con_HadGEM3-GC5-EERIE-HH_piControl_19510101-19520101 {\n",
      "dimensions:\n",
      "\ty = 3604 ;\n",
      "\tx = 4320 ;\n",
      "\tnvertex = 4 ;\n",
      "\ttime_counter = UNLIMITED ; // (12 currently)\n",
      "\taxis_nbounds = 2 ;\n",
      "variables:\n",
      "\tfloat area(y, x) ;\n",
      "\t\tarea:standard_name = \"cell_area\" ;\n",
      "\t\tarea:units = \"m2\" ;\n",
      "\t\tarea:_Storage = \"chunked\" ;\n",
      "\t\tarea:_ChunkSizes = 205, 289 ;\n",
      "\t\tarea:_DeflateLevel = 3 ;\n",
      "\t\tarea:_Endianness = \"little\" ;\n",
      "\tfloat bounds_nav_lat(y, x, nvertex) ;\n",
      "\t\tbounds_nav_lat:_Storage = \"chunked\" ;\n",
      "\t\tbounds_nav_lat:_ChunkSizes = 205, 289, 4 ;\n",
      "\t\tbounds_nav_lat:_DeflateLevel = 3 ;\n",
      "\t\tbounds_nav_lat:_Endianness = \"little\" ;\n",
      "\tfloat bounds_nav_lon(y, x, nvertex) ;\n",
      "\t\tbounds_nav_lon:_Storage = \"chunked\" ;\n",
      "\t\tbounds_nav_lon:_ChunkSizes = 205, 289, 4 ;\n",
      "\t\tbounds_nav_lon:_DeflateLevel = 3 ;\n",
      "\t\tbounds_nav_lon:_Endianness = \"little\" ;\n",
      "\tfloat nav_lat(y, x) ;\n",
      "\t\tnav_lat:standard_name = \"latitude\" ;\n",
      "\t\tnav_lat:long_name = \"Latitude\" ;\n",
      "\t\tnav_lat:units = \"degrees_north\" ;\n",
      "\t\tnav_lat:bounds = \"bounds_nav_lat\" ;\n",
      "\t\tnav_lat:_Storage = \"chunked\" ;\n",
      "\t\tnav_lat:_ChunkSizes = 205, 289 ;\n",
      "\t\tnav_lat:_DeflateLevel = 3 ;\n",
      "\t\tnav_lat:_Endianness = \"little\" ;\n",
      "\tfloat nav_lon(y, x) ;\n",
      "\t\tnav_lon:standard_name = \"longitude\" ;\n",
      "\t\tnav_lon:long_name = \"Longitude\" ;\n",
      "\t\tnav_lon:units = \"degrees_east\" ;\n",
      "\t\tnav_lon:bounds = \"bounds_nav_lon\" ;\n",
      "\t\tnav_lon:_Storage = \"chunked\" ;\n",
      "\t\tnav_lon:_ChunkSizes = 205, 289 ;\n",
      "\t\tnav_lon:_DeflateLevel = 3 ;\n",
      "\t\tnav_lon:_Endianness = \"little\" ;\n",
      "\tdouble time_centered(time_counter) ;\n",
      "\t\ttime_centered:long_name = \"Time axis\" ;\n",
      "\t\ttime_centered:calendar = \"gregorian\" ;\n",
      "\t\ttime_centered:units = \"seconds since 1850-01-01 00:00:00\" ;\n",
      "\t\ttime_centered:time_origin = \"1850-01-01 00:00:00\" ;\n",
      "\t\ttime_centered:bounds = \"time_centered_bounds\" ;\n",
      "\t\ttime_centered:standard_name = \"time_garbage\" ;\n",
      "\t\ttime_centered:cell_methods = \"time_counter: mean\" ;\n",
      "\t\ttime_centered:_Storage = \"chunked\" ;\n",
      "\t\ttime_centered:_ChunkSizes = 1 ;\n",
      "\t\ttime_centered:_DeflateLevel = 3 ;\n",
      "\t\ttime_centered:_Endianness = \"little\" ;\n",
      "\tdouble time_counter(time_counter) ;\n",
      "\t\ttime_counter:axis = \"T\" ;\n",
      "\t\ttime_counter:standard_name = \"time\" ;\n",
      "\t\ttime_counter:long_name = \"Time axis\" ;\n",
      "\t\ttime_counter:calendar = \"gregorian\" ;\n",
      "\t\ttime_counter:units = \"seconds since 1850-01-01 00:00:00\" ;\n",
      "\t\ttime_counter:time_origin = \"1850-01-01 00:00:00\" ;\n",
      "\t\ttime_counter:bounds = \"time_counter_bounds\" ;\n",
      "\t\ttime_counter:cell_methods = \"time_counter: mean\" ;\n",
      "\t\ttime_counter:_Storage = \"chunked\" ;\n",
      "\t\ttime_counter:_ChunkSizes = 1 ;\n",
      "\t\ttime_counter:_DeflateLevel = 3 ;\n",
      "\t\ttime_counter:_Endianness = \"little\" ;\n",
      "\tdouble time_counter_bounds(time_counter, axis_nbounds) ;\n",
      "\t\ttime_counter_bounds:cell_methods = \"time_counter: mean\" ;\n",
      "\t\ttime_counter_bounds:_Storage = \"chunked\" ;\n",
      "\t\ttime_counter_bounds:_ChunkSizes = 1, 2 ;\n",
      "\t\ttime_counter_bounds:_DeflateLevel = 3 ;\n",
      "\t\ttime_counter_bounds:_Endianness = \"little\" ;\n",
      "\tfloat tos_con(time_counter, y, x) ;\n",
      "\t\ttos_con:standard_name = \"sea_surface_conservative_temperature\" ;\n",
      "\t\ttos_con:long_name = \"sea surface conservative temperature\" ;\n",
      "\t\ttos_con:units = \"degC\" ;\n",
      "\t\ttos_con:online_operation = \"average\" ;\n",
      "\t\ttos_con:interval_operation = \"450 s\" ;\n",
      "\t\ttos_con:interval_write = \"1 month\" ;\n",
      "\t\ttos_con:cell_methods = \"time: mean (interval: 450 s) time_counter: mean\" ;\n",
      "\t\ttos_con:cell_measures = \"area: area\" ;\n",
      "\t\ttos_con:_FillValue = 1.e+20f ;\n",
      "\t\ttos_con:missing_value = 1.e+20f ;\n",
      "\t\ttos_con:coordinates = \"time_centered nav_lat nav_lon\" ;\n",
      "\t\ttos_con:_Storage = \"chunked\" ;\n",
      "\t\ttos_con:_ChunkSizes = 1, 205, 289 ;\n",
      "\t\ttos_con:_DeflateLevel = 3 ;\n",
      "\t\ttos_con:_Endianness = \"little\" ;\n",
      "\n",
      "// global attributes:\n",
      "\t\t:name = \"cx993o_1m_19510101_19510131_grid_T\" ;\n",
      "\t\t:description = \"ocean T grid variables\" ;\n",
      "\t\t:title = \"ocean T grid variables\" ;\n",
      "\t\t:Conventions = \"CF-1.6\" ;\n",
      "\t\t:timeStamp = \"2023-Dec-26 21:22:24 GMT\" ;\n",
      "\t\t:uuid = \"82871913-9835-4e6f-a68a-0e4a8541c7b0\" ;\n",
      "\t\t:history = \"Thu Sep 12 09:54:09 2024: ncrcat /gws/nopw/j04/eerie/cache/mjrobert/EERIE/fraser/HadGEM3-GC5-EERIE-HH/piControl/mon/tos_con/tos_con_HadGEM3-GC5-EERIE-HH_piControl_1m_19510101-19510201_grid-T.nc /gws/nopw/j04/eerie/cache/mjrobert/EERIE/fraser/HadGEM3-GC5-EERIE-HH/piControl/mon/tos_con/tos_con_HadGEM3-GC5-EERIE-HH_piControl_1m_19510201-19510301_grid-T.nc /gws/nopw/j04/eerie/cache/mjrobert/EERIE/fraser/HadGEM3-GC5-EERIE-HH/piControl/mon/tos_con/tos_con_HadGEM3-GC5-EERIE-HH_piControl_1m_19510301-19510401_grid-T.nc /gws/nopw/j04/eerie/cache/mjrobert/EERIE/fraser/HadGEM3-GC5-EERIE-HH/piControl/mon/tos_con/tos_con_HadGEM3-GC5-EERIE-HH_piControl_1m_19510401-19510501_grid-T.nc /gws/nopw/j04/eerie/cache/mjrobert/EERIE/fraser/HadGEM3-GC5-EERIE-HH/piControl/mon/tos_con/tos_con_HadGEM3-GC5-EERIE-HH_piControl_1m_19510501-19510601_grid-T.nc /gws/nopw/j04/eerie/cache/mjrobert/EERIE/fraser/HadGEM3-GC5-EERIE-HH/piControl/mon/tos_con/tos_con_HadGEM3-GC5-EERIE-HH_piControl_1m_19510601-19510701_grid-T.nc /gws/nopw/j04/eerie/cache/mjrobert/EERIE/fraser/HadGEM3-GC5-EERIE-HH/piControl/mon/tos_con/tos_con_HadGEM3-GC5-EERIE-HH_piControl_1m_19510701-19510801_grid-T.nc /gws/nopw/j04/eerie/cache/mjrobert/EERIE/fraser/HadGEM3-GC5-EERIE-HH/piControl/mon/tos_con/tos_con_HadGEM3-GC5-EERIE-HH_piControl_1m_19510801-19510901_grid-T.nc /gws/nopw/j04/eerie/cache/mjrobert/EERIE/fraser/HadGEM3-GC5-EERIE-HH/piControl/mon/tos_con/tos_con_HadGEM3-GC5-EERIE-HH_piControl_1m_19510901-19511001_grid-T.nc /gws/nopw/j04/eerie/cache/mjrobert/EERIE/fraser/HadGEM3-GC5-EERIE-HH/piControl/mon/tos_con/tos_con_HadGEM3-GC5-EERIE-HH_piControl_1m_19511001-19511101_grid-T.nc /gws/nopw/j04/eerie/cache/mjrobert/EERIE/fraser/HadGEM3-GC5-EERIE-HH/piControl/mon/tos_con/tos_con_HadGEM3-GC5-EERIE-HH_piControl_1m_19511101-19511201_grid-T.nc /gws/nopw/j04/eerie/cache/mjrobert/EERIE/fraser/HadGEM3-GC5-EERIE-HH/piControl/mon/tos_con/tos_con_HadGEM3-GC5-EERIE-HH_piControl_1m_19511201-19520101_grid-T.nc /gws/nopw/j04/eerie/cache/mjrobert/EERIE/fraser/HadGEM3-GC5-EERIE-HH/piControl/mon/tos_con/tos_con_HadGEM3-GC5-EERIE-HH_piControl_19510101-19520101.nc\\n\",\n",
      "\t\t\t\"Mon Sep  9 12:58:54 2024: ncks -v tos_con /gws/nopw/j04/eerie/cache/mjrobert/EERIE/fraser/u-cx993/onm/nemo_cx993o_1m_19510101-19510201_grid-T_strip.nc /gws/nopw/j04/eerie/cache/mjrobert/EERIE/fraser/HadGEM3-GC5-EERIE-HH/piControl/mon/tos_con/tos_con_HadGEM3-GC5-EERIE-HH_piControl_1m_19510101-19510201_grid-T.nc\\n\",\n",
      "\t\t\t\"Mon Sep  9 11:13:57 2024: ncatted -O -a standard_name,time_centered,m,c,time_garbage /gws/nopw/j04/eerie/cache/mjrobert/EERIE/fraser/u-cx993/onm/nemo_cx993o_1m_19510101-19510201_grid-T_strip.nc\\n\",\n",
      "\t\t\t\"Mon Sep  9 11:11:52 2024: ncks -d x,1,4320 -d y,1,3604 /gws/nopw/j04/eerie/cache/mjrobert/EERIE/fraser/u-cx993/onm/nemo_cx993o_1m_19510101-19510201_grid-T.nc /gws/nopw/j04/eerie/cache/mjrobert/EERIE/fraser/u-cx993/onm/nemo_cx993o_1m_19510101-19510201_grid-T_strip.nc\\n\",\n",
      "\t\t\t\"Thu Sep  5 23:31:32 2024: /opt/moose/moose-netcdf/bin/ncks -O -a --cnk_map=xst -v time_counter,time_counter_bounds,nav_lat,nav_lon,area,tos_con,sos_abs,friver,hfds,rsdo,ficeberg,evs,prsn,hfrainds,hfevapds,hflx_rnf,fsitherm,empmr,soprecip,closea_emp,snowpre,snow_ai_cea,sowaflup,total_evap,ice_evap -4 /hpss/subsys2/moose/crum/u-cx993/onm.nc.file/nemo_cx993o_1m_19510101-19510201_grid-T.nc /data/cache/netcdf/output/dummy_output_1896437445_0\" ;\n",
      "\t\t:NCO = \"netCDF Operators version 5.0.7 (Homepage = http://nco.sf.net, Code = http://github.com/nco/nco)\" ;\n",
      "\t\t:_SuperblockVersion = 2 ;\n",
      "\t\t:_IsNetcdf4 = 0 ;\n",
      "\t\t:_Format = \"netCDF-4 classic model\" ;\n",
      "}\n"
     ]
    },
    {
     "data": {
      "text/plain": [
       "0"
      ]
     },
     "execution_count": 9,
     "metadata": {},
     "output_type": "execute_result"
    }
   ],
   "source": [
    "monthly_variables = ['evs', 'friver', 'hfds', 'rsdo', 'soprecip', 'sos_abs', 'sowflisf', 'tos_con']\n",
    "dir_flux = os.path.join(TOP_DIR, '{model}-{resol}', 'piControl', '{freq}', '{variable}', '{variable}_{model}-{resol}_{simulation}_{period}.nc')\n",
    "\n",
    "tos_con_data = dir_flux.format(model=desc, resol=model_HH, freq='Omon', variable='tos_con', simulation=simulation, period='19510101-19520101')\n",
    "print('tos_con ',tos_con_data)\n",
    "os.system('ncdump -hs '+tos_con_data+' |less')\n"
   ]
  },
  {
   "cell_type": "markdown",
   "id": "ddcacc05-eef7-4804-b662-f4e2e4489330",
   "metadata": {},
   "source": [
    "Data for Amanda for North Atlantic analysis\n",
    "Monthly mean T, S, vertical velocity, on NEMO grid\n",
    "The grid-T files contain (nearly) all the variables on the T grid, while the grid-W files contain those on the W grid (e.g. vertical velocity)\n",
    "Variables:\n",
    "   thetao_con\n",
    "   so_abs\n",
    "\n",
    "There are also directories containing pre-calculated diagnostics:\n",
    "   psi - monthly barotropic streamfunction calculated using CDFTOOLS\n",
    "   amoc - monthly overturning streamfunction (in depth space and sigma-2 density space) calculated using CDFTOOLS"
   ]
  },
  {
   "cell_type": "code",
   "execution_count": 2,
   "id": "842a2731-70c2-48eb-9f38-9ed53b44e256",
   "metadata": {},
   "outputs": [],
   "source": [
    "import os\n",
    "TOP_DIR = \"/gws/nopw/j04/eerie/cache/mjrobert/EERIE/amanda\"\n",
    "model_HH = \"HH\"; suite_HH = \"u-cx993\"\n",
    "model_MM = 'MM'; suite_MM = 'u-cy021'\n",
    "model_LL = 'LL'; suite_LL = 'u-cy163'\n",
    "runid = suite_HH[2:]\n",
    "\n",
    "monthly_mean_file = os.path.join(TOP_DIR, suite_HH, 'onm', 'nemo_{runid}o_1m_{year}{month}01-{year}{monthp1}01_grid-T_nohalo.nc')\n",
    "psi_file = os.path.join(TOP_DIR, suite_HH, 'psi', 'psi_{suite}_1y_{year}.nc')\n",
    "amoc_depth_file = os.path.join(TOP_DIR, suite_HH, 'amoc', 'moc_{suite}_1y_{year}.nc')\n",
    "amoc_density_file = os.path.join(TOP_DIR, suite_HH, 'amoc', 'mocsig_{suite}_1y_{year}.nc')"
   ]
  },
  {
   "cell_type": "markdown",
   "id": "71a30b71-2d12-4392-9357-b6c76515a107",
   "metadata": {},
   "source": [
    "Calculate the area weighted global mean at each time slice and plot this series."
   ]
  },
  {
   "cell_type": "code",
   "execution_count": 8,
   "id": "d8295e41-7182-458f-9afb-689a5c53ecdc",
   "metadata": {},
   "outputs": [
    {
     "name": "stderr",
     "output_type": "stream",
     "text": [
      "/opt/jaspy/lib/python3.10/site-packages/iris/analysis/cartography.py:394: UserWarning: Using DEFAULT_SPHERICAL_EARTH_RADIUS.\n",
      "  warnings.warn(\"Using DEFAULT_SPHERICAL_EARTH_RADIUS.\")\n"
     ]
    }
   ],
   "source": []
  },
  {
   "cell_type": "code",
   "execution_count": null,
   "id": "268ece49-9a41-4458-beaa-1a54965ece14",
   "metadata": {},
   "outputs": [],
   "source": []
  }
 ],
 "metadata": {
  "kernelspec": {
   "display_name": "Python 3 + Jaspy",
   "language": "python",
   "name": "jaspy"
  },
  "language_info": {
   "codemirror_mode": {
    "name": "ipython",
    "version": 3
   },
   "file_extension": ".py",
   "mimetype": "text/x-python",
   "name": "python",
   "nbconvert_exporter": "python",
   "pygments_lexer": "ipython3",
   "version": "3.11.9"
  }
 },
 "nbformat": 4,
 "nbformat_minor": 5
}
