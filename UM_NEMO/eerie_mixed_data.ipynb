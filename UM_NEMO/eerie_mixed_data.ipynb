{
 "cells": [
  {
   "cell_type": "markdown",
   "id": "4fc2ceb8-9b3a-4b8e-b354-453f0f624286",
   "metadata": {},
   "source": [
    "# "
   ]
  },
  {
   "cell_type": "markdown",
   "id": "0a6a0dda-4148-40e0-aa1f-cf8eb204523b",
   "metadata": {},
   "source": [
    "Data from UM-NEMO model simulations, not CMORised"
   ]
  },
  {
   "cell_type": "markdown",
   "id": "2ea1e0d0-b74d-46a8-a3ed-7609b9d65d1c",
   "metadata": {},
   "source": []
  },
  {
   "cell_type": "markdown",
   "id": "72165ca2-15c9-47fe-b153-2523e9b0cf31",
   "metadata": {
    "jp-MarkdownHeadingCollapsed": true
   },
   "source": [
    "Data for SAM calculations\n",
    "Monthly: sic, ts, uwind_850\n",
    "Daily: zg_500\n",
    "Atmosphere grid, latitude-longitude"
   ]
  },
  {
   "cell_type": "code",
   "execution_count": 1,
   "id": "8824b77e-0e8c-431b-bb75-96b7cf3e95b3",
   "metadata": {},
   "outputs": [],
   "source": [
    "import os\n",
    "import os.path\n",
    "import glob\n"
   ]
  },
  {
   "cell_type": "code",
   "execution_count": 2,
   "id": "cb3285ce-1eba-4e1f-8372-22d218f3b789",
   "metadata": {},
   "outputs": [],
   "source": [
    "TOP_DIR = \"/gws/nopw/j04/eerie/model_output/MOHC\"\n",
    "desc = 'HadGEM3-GC5-EERIE'\n",
    "model_HH = \"HH\"; suiteid_HH = \"u-cx993\"\n",
    "model_MM = 'MM'; suite_MM = 'u-cy021'\n",
    "model_LL = 'LL'; suite_LL = 'u-cy163'\n"
   ]
  },
  {
   "cell_type": "markdown",
   "id": "a538a259-1e2d-46df-bcaa-b7e47c5aa18e",
   "metadata": {},
   "source": [
    "Data for SAM calculations: variables on UM atmosphere lat-lon grid:\n",
    "\n",
    "Monthly\n",
    "  sic = sea ice concentration\n",
    "  ts = surface temperature\n",
    "  uwind_850 = 850 hPa eastward wind\n",
    "\n",
    "Daily\n",
    "  zg_500 = 500 hPa geopotential height "
   ]
  },
  {
   "cell_type": "code",
   "execution_count": 12,
   "id": "29efa200-1e99-466d-b46a-aa31cb8815f3",
   "metadata": {},
   "outputs": [
    {
     "name": "stdout",
     "output_type": "stream",
     "text": [
      "sic  /gws/nopw/j04/eerie/cache/mjrobert/EERIE/SAM/HadGEM3-GC5-EERIE-HH/mon/ts/ts_1951.nc\n",
      "netcdf ts_1951 {\n",
      "dimensions:\n",
      "\ttime = UNLIMITED ; // (12 currently)\n",
      "\tlatitude = 960 ;\n",
      "\tlongitude = 1280 ;\n",
      "\tbnds = 2 ;\n",
      "variables:\n",
      "\tfloat surface_temperature(time, latitude, longitude) ;\n",
      "\t\tsurface_temperature:standard_name = \"surface_temperature\" ;\n",
      "\t\tsurface_temperature:units = \"K\" ;\n",
      "\t\tsurface_temperature:um_stash_source = \"m01s00i024\" ;\n",
      "\t\tsurface_temperature:cell_methods = \"time: mean (interval: 1 hour)\" ;\n",
      "\t\tsurface_temperature:grid_mapping = \"latitude_longitude\" ;\n",
      "\t\tsurface_temperature:coordinates = \"forecast_period forecast_reference_time\" ;\n",
      "\t\tsurface_temperature:_Storage = \"chunked\" ;\n",
      "\t\tsurface_temperature:_ChunkSizes = 1, 960, 1280 ;\n",
      "\t\tsurface_temperature:_Shuffle = \"true\" ;\n",
      "\t\tsurface_temperature:_DeflateLevel = 3 ;\n",
      "\t\tsurface_temperature:_Endianness = \"little\" ;\n",
      "\tint latitude_longitude ;\n",
      "\t\tlatitude_longitude:grid_mapping_name = \"latitude_longitude\" ;\n",
      "\t\tlatitude_longitude:longitude_of_prime_meridian = 0. ;\n",
      "\t\tlatitude_longitude:earth_radius = 6371229. ;\n",
      "\t\tlatitude_longitude:_Storage = \"contiguous\" ;\n",
      "\t\tlatitude_longitude:_Endianness = \"little\" ;\n",
      "\tdouble time(time) ;\n",
      "\t\ttime:axis = \"T\" ;\n",
      "\t\ttime:bounds = \"time_bnds\" ;\n",
      "\t\ttime:units = \"hours since 1970-01-01 00:00:00\" ;\n",
      "\t\ttime:standard_name = \"time\" ;\n",
      "\t\ttime:calendar = \"standard\" ;\n",
      "\t\ttime:_Storage = \"chunked\" ;\n",
      "\t\ttime:_ChunkSizes = 512 ;\n",
      "\t\ttime:_Endianness = \"little\" ;\n",
      "\tdouble time_bnds(time, bnds) ;\n",
      "\t\ttime_bnds:_Storage = \"chunked\" ;\n",
      "\t\ttime_bnds:_ChunkSizes = 1, 2 ;\n",
      "\t\ttime_bnds:_Endianness = \"little\" ;\n",
      "\tfloat latitude(latitude) ;\n",
      "\t\tlatitude:axis = \"Y\" ;\n",
      "\t\tlatitude:units = \"degrees_north\" ;\n",
      "\t\tlatitude:standard_name = \"latitude\" ;\n",
      "\t\tlatitude:_Storage = \"contiguous\" ;\n",
      "\t\tlatitude:_Endianness = \"little\" ;\n",
      "\tfloat longitude(longitude) ;\n",
      "\t\tlongitude:axis = \"X\" ;\n",
      "\t\tlongitude:units = \"degrees_east\" ;\n",
      "\t\tlongitude:standard_name = \"longitude\" ;\n",
      "\t\tlongitude:_Storage = \"contiguous\" ;\n",
      "\t\tlongitude:_Endianness = \"little\" ;\n",
      "\tdouble forecast_period(time) ;\n",
      "\t\tforecast_period:bounds = \"forecast_period_bnds\" ;\n",
      "\t\tforecast_period:units = \"hours\" ;\n",
      "\t\tforecast_period:standard_name = \"forecast_period\" ;\n",
      "\t\tforecast_period:_Storage = \"chunked\" ;\n",
      "\t\tforecast_period:_ChunkSizes = 12 ;\n",
      "\t\tforecast_period:_Endianness = \"little\" ;\n",
      "\tdouble forecast_period_bnds(time, bnds) ;\n",
      "\t\tforecast_period_bnds:_Storage = \"chunked\" ;\n",
      "\t\tforecast_period_bnds:_ChunkSizes = 1, 2 ;\n",
      "\t\tforecast_period_bnds:_Endianness = \"little\" ;\n",
      "\tdouble forecast_reference_time ;\n",
      "\t\tforecast_reference_time:units = \"hours since 1970-01-01 00:00:00\" ;\n",
      "\t\tforecast_reference_time:standard_name = \"forecast_reference_time\" ;\n",
      "\t\tforecast_reference_time:calendar = \"standard\" ;\n",
      "\t\tforecast_reference_time:_Storage = \"contiguous\" ;\n",
      "\t\tforecast_reference_time:_Endianness = \"little\" ;\n",
      "\n",
      "// global attributes:\n",
      "\t\t:source = \"Data from Met Office Unified Model\" ;\n",
      "\t\t:um_version = \"13.1\" ;\n",
      "\t\t:Conventions = \"CF-1.7\" ;\n",
      "\t\t:_NCProperties = \"version=2,netcdf=4.9.2,hdf5=1.14.3\" ;\n",
      "\t\t:_SuperblockVersion = 2 ;\n",
      "\t\t:_IsNetcdf4 = 1 ;\n",
      "\t\t:_Format = \"netCDF-4\" ;\n",
      "}\n"
     ]
    },
    {
     "data": {
      "text/plain": [
       "0"
      ]
     },
     "execution_count": 12,
     "metadata": {},
     "output_type": "execute_result"
    }
   ],
   "source": [
    "monthly_variables = ['sic', 'ts', 'uwind_850']\n",
    "daily_variables = ['zg_500']\n",
    "dir_sam = os.path.join(TOP_DIR, 'SAM', '{model}-{resol}', 'piControl', '{freq}', '{variable}', '{variable}_{year}.nc')\n",
    "\n",
    "sic_data = dir_sam.format(model=desc, resol=model_HH, freq='mon', variable='ts', year='1951')\n",
    "print('sic ',sic_data)\n",
    "os.system('ncdump -hs '+sic_data+' |less')\n"
   ]
  },
  {
   "cell_type": "markdown",
   "id": "32faf023-163b-4c39-8057-92cbf214178e",
   "metadata": {
    "collapsed": true,
    "jupyter": {
     "outputs_hidden": true
    }
   },
   "source": [
    "Data for Fraser of fluxes on NEMO grid:\n",
    "Variables, monthly\n",
    "  tos_con - conservative temperature\n",
    "  sos_abs - absolute salinity\n",
    "  soprecip - total precipitation (rain + snow)\n",
    "  friver - river input to ocean\n",
    "  sowflisf - freshwater from ice sheets (the model calculates this based on rain/snow over the ice sheets)\n",
    "  evs - evaporation\n",
    "  hfds - net surface heat flux\n",
    "  rsdo - penetrative solar flux\n",
    "\n",
    "Net FW flux (excluding evap and snow over sea-ice) = evs - soprecip - friver +soflisf\n"
   ]
  },
  {
   "cell_type": "code",
   "execution_count": null,
   "id": "0a560d83-d8b6-42b0-a0e7-d3491c3e89bd",
   "metadata": {},
   "outputs": [],
   "source": []
  },
  {
   "cell_type": "code",
   "execution_count": 13,
   "id": "f734c250-fc0d-4cbf-8465-e85049978029",
   "metadata": {},
   "outputs": [],
   "source": [
    "TOP_DIR = \"/gws/nopw/j04/eerie/model_output/MOHC\"\n",
    "desc = 'HadGEM3-GC5-EERIE'\n",
    "model_HH = \"HH\"; suiteid_HH = \"u-cx993\"\n",
    "model_MM = 'MM'; suite_MM = 'u-cy021'\n",
    "model_LL = 'LL'; suite_LL = 'u-cy163'\n"
   ]
  },
  {
   "cell_type": "code",
   "execution_count": 14,
   "id": "eedfebdb-1361-489b-8f31-f2d71c7178ff",
   "metadata": {},
   "outputs": [
    {
     "name": "stdout",
     "output_type": "stream",
     "text": [
      "tos_con  /gws/nopw/j04/eerie/cache/mjrobert/EERIE/fraser/HadGEM3-GC5-EERIE-HH/piControl/mon/tos_con/tos_con_1951.nc\n"
     ]
    },
    {
     "name": "stderr",
     "output_type": "stream",
     "text": [
      "ncdump: /gws/nopw/j04/eerie/cache/mjrobert/EERIE/fraser/HadGEM3-GC5-EERIE-HH/piControl/mon/tos_con/tos_con_1951.nc: No such file or directory\n"
     ]
    },
    {
     "data": {
      "text/plain": [
       "0"
      ]
     },
     "execution_count": 14,
     "metadata": {},
     "output_type": "execute_result"
    }
   ],
   "source": [
    "monthly_variables = ['evs', 'friver', 'hfds', 'rsdo', 'soprecip', 'sos_abs', 'sowflisf', 'tos_con']\n",
    "dir_flux = os.path.join(TOP_DIR, 'fraser', '{model}-{resol}', 'piControl', '{freq}', '{variable}', '{variable}_{year}.nc')\n",
    "\n",
    "tos_con_data = dir_flux.format(model=desc, resol=model_HH, freq='mon', variable='tos_con', year='1951')\n",
    "print('tos_con ',tos_con_data)\n",
    "os.system('ncdump -hs '+tos_con_data+' |less')\n"
   ]
  },
  {
   "cell_type": "markdown",
   "id": "ddcacc05-eef7-4804-b662-f4e2e4489330",
   "metadata": {},
   "source": [
    "Data for Amanda for North Atlantic analysis\n",
    "Monthly mean T, S, vertical velocity, on NEMO grid\n",
    "The grid-T files contain (nearly) all the variables on the T grid, while the grid-W files contain those on the W grid (e.g. vertical velocity)\n",
    "Variables:\n",
    "   thetao_con\n",
    "   so_abs\n",
    "\n",
    "There are also directories containing pre-calculated diagnostics:\n",
    "   psi - monthly barotropic streamfunction calculated using CDFTOOLS\n",
    "   amoc - monthly overturning streamfunction (in depth space and sigma-2 density space) calculated using CDFTOOLS"
   ]
  },
  {
   "cell_type": "code",
   "execution_count": 2,
   "id": "842a2731-70c2-48eb-9f38-9ed53b44e256",
   "metadata": {},
   "outputs": [],
   "source": [
    "import os\n",
    "TOP_DIR = \"/gws/nopw/j04/eerie/cache/mjrobert/EERIE/amanda\"\n",
    "model_HH = \"HH\"; suite_HH = \"u-cx993\"\n",
    "model_MM = 'MM'; suite_MM = 'u-cy021'\n",
    "model_LL = 'LL'; suite_LL = 'u-cy163'\n",
    "runid = suite_HH[2:]\n",
    "\n",
    "monthly_mean_file = os.path.join(TOP_DIR, suite_HH, 'onm', 'nemo_{runid}o_1m_{year}{month}01-{year}{monthp1}01_grid-T_nohalo.nc')\n",
    "psi_file = os.path.join(TOP_DIR, suite_HH, 'psi', 'psi_{suite}_1y_{year}.nc')\n",
    "amoc_depth_file = os.path.join(TOP_DIR, suite_HH, 'amoc', 'moc_{suite}_1y_{year}.nc')\n",
    "amoc_density_file = os.path.join(TOP_DIR, suite_HH, 'amoc', 'mocsig_{suite}_1y_{year}.nc')"
   ]
  },
  {
   "cell_type": "markdown",
   "id": "71a30b71-2d12-4392-9357-b6c76515a107",
   "metadata": {},
   "source": [
    "Calculate the area weighted global mean at each time slice and plot this series."
   ]
  },
  {
   "cell_type": "code",
   "execution_count": 8,
   "id": "d8295e41-7182-458f-9afb-689a5c53ecdc",
   "metadata": {},
   "outputs": [
    {
     "name": "stderr",
     "output_type": "stream",
     "text": [
      "/opt/jaspy/lib/python3.10/site-packages/iris/analysis/cartography.py:394: UserWarning: Using DEFAULT_SPHERICAL_EARTH_RADIUS.\n",
      "  warnings.warn(\"Using DEFAULT_SPHERICAL_EARTH_RADIUS.\")\n"
     ]
    }
   ],
   "source": []
  },
  {
   "cell_type": "code",
   "execution_count": null,
   "id": "268ece49-9a41-4458-beaa-1a54965ece14",
   "metadata": {},
   "outputs": [],
   "source": []
  }
 ],
 "metadata": {
  "kernelspec": {
   "display_name": "Python 3 + Jaspy",
   "language": "python",
   "name": "jaspy"
  },
  "language_info": {
   "codemirror_mode": {
    "name": "ipython",
    "version": 3
   },
   "file_extension": ".py",
   "mimetype": "text/x-python",
   "name": "python",
   "nbconvert_exporter": "python",
   "pygments_lexer": "ipython3",
   "version": "3.11.9"
  }
 },
 "nbformat": 4,
 "nbformat_minor": 5
}
